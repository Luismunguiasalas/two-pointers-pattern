{
 "metadata": {
  "language_info": {
   "codemirror_mode": {
    "name": "ipython",
    "version": 3
   },
   "file_extension": ".py",
   "mimetype": "text/x-python",
   "name": "python",
   "nbconvert_exporter": "python",
   "pygments_lexer": "ipython3",
   "version": "3.8.5-final"
  },
  "orig_nbformat": 2,
  "kernelspec": {
   "name": "python3",
   "display_name": "Python 3",
   "language": "python"
  }
 },
 "nbformat": 4,
 "nbformat_minor": 2,
 "cells": [
  {
   "cell_type": "code",
   "execution_count": 5,
   "metadata": {},
   "outputs": [
    {
     "output_type": "execute_result",
     "data": {
      "text/plain": [
       "[0, 2]"
      ]
     },
     "metadata": {},
     "execution_count": 5
    }
   ],
   "source": [
    "# Given an array of sorted numbers and a target sum, find a pair in the array whose sum is equal to the given target.\n",
    "\n",
    "def pair_with_targetsum(arr,target):\n",
    "    low,high,sum= 0,(len(arr) - 1), 0\n",
    "    while sum != target:\n",
    "        sum = arr[low] + arr[high]\n",
    "        if sum < target: low += 1\n",
    "        elif sum > target: high -= 1\n",
    "    return [low,high]\n",
    "inp = [1, 2, 3, 4, 6]\n",
    "t = 6\n",
    "inp = [2, 5, 9, 11]\n",
    "t = 11\n",
    "pair_with_targetsum(inp,t)\n",
    "\n",
    "# time complexity O(n)\n",
    "# space complexity O(1)"
   ]
  }
 ]
}