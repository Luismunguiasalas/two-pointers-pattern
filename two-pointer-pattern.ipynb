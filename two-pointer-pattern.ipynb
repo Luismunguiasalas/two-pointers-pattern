{
 "metadata": {
  "language_info": {
   "codemirror_mode": {
    "name": "ipython",
    "version": 3
   },
   "file_extension": ".py",
   "mimetype": "text/x-python",
   "name": "python",
   "nbconvert_exporter": "python",
   "pygments_lexer": "ipython3",
   "version": "3.8.5-final"
  },
  "orig_nbformat": 2,
  "kernelspec": {
   "name": "python3",
   "display_name": "Python 3",
   "language": "python"
  }
 },
 "nbformat": 4,
 "nbformat_minor": 2,
 "cells": [
  {
   "cell_type": "code",
   "execution_count": 5,
   "metadata": {},
   "outputs": [
    {
     "output_type": "execute_result",
     "data": {
      "text/plain": [
       "[0, 2]"
      ]
     },
     "metadata": {},
     "execution_count": 5
    }
   ],
   "source": [
    "# Given an array of sorted numbers and a target sum, find a pair in the array whose sum is equal to the given target.\n",
    "\n",
    "def pair_with_targetsum(arr,target):\n",
    "    low,high,sum= 0,(len(arr) - 1), 0\n",
    "    while sum != target:\n",
    "        sum = arr[low] + arr[high]\n",
    "        if sum < target: low += 1\n",
    "        elif sum > target: high -= 1\n",
    "    return [low,high]\n",
    "inp = [1, 2, 3, 4, 6]\n",
    "t = 6\n",
    "inp = [2, 5, 9, 11]\n",
    "t = 11\n",
    "pair_with_targetsum(inp,t)\n",
    "\n",
    "# time complexity O(n)\n",
    "# space complexity O(1)\n",
    "# implementing with hash table will be same time, space complexity O(n)"
   ]
  },
  {
   "cell_type": "code",
   "execution_count": 18,
   "metadata": {},
   "outputs": [
    {
     "output_type": "execute_result",
     "data": {
      "text/plain": [
       "(4, [2, 3, 6, 9, 6, 9, 9])"
      ]
     },
     "metadata": {},
     "execution_count": 18
    }
   ],
   "source": [
    "# Given an array of sorted numbers, remove all duplicates from it. You should not use any extra space; after removing the duplicates in-place return the length of the subarray that has no duplicate in it.\n",
    "\n",
    "def remove_duplicates(arr):\n",
    "    l_pointer, r_pointer = (len(arr)-2),(len(arr) - 1)\n",
    "    while l_pointer >= 0:\n",
    "        if arr[l_pointer] == arr[r_pointer]:\n",
    "            arr.pop(r_pointer)\n",
    "        l_pointer -= 1\n",
    "        r_pointer -= 1\n",
    "    return len(arr),arr\n",
    "# time complexity O(n)\n",
    "# space complexity O(1)\n",
    "\n",
    "def remove_duplicates(arr):\n",
    "    nxt = 1\n",
    "    i = 1\n",
    "    while i < len(arr):\n",
    "        if arr[nxt - 1] != arr[i]:\n",
    "            arr[nxt] = arr[i]\n",
    "            nxt += 1\n",
    "        i += 1\n",
    "    return nxt,\n",
    "# time complexity O(n)\n",
    "# space complexity O(1)\n",
    "\n",
    "i = [2,3,3,3,6,9,9]\n",
    "# i = [2,2,2,11]\n",
    "remove_duplicates(i)"
   ]
  },
  {
   "source": [
    "# : Given an unsorted array of numbers and a target ‘key’, remove all instances of ‘key’ in-place and return the new length of the array.\n",
    "\n",
    "def remove_element(arr,key):\n",
    "    l,r = 0, (len(arr) - 1)\n",
    "    while l <= r:\n",
    "        if arr[l] == key:\n",
    "            arr.pop(l)\n",
    "            l -= 1\n",
    "        elif arr[r] == key:\n",
    "            arr.pop(r)\n",
    "        l += 1\n",
    "        r -= 1\n",
    "    return len(arr),arr\n",
    "# time complexity O(n)\n",
    "# space complexity O(1)\n",
    "def remove_element(arr,key):\n",
    "    r = (len(arr)-1)\n",
    "    while r >= 0:\n",
    "        if arr[r] == key:\n",
    "            arr.pop(r)\n",
    "        r -= 1\n",
    "    return len(arr),arr \n",
    "# time complexity O(n)\n",
    "# space complexity O(1)\n",
    "\n",
    "def remove_element(arr,key):\n",
    "    l,r = 0,1\n",
    "    while r <= len(arr)-1:\n",
    "        if arr[l] == key and arr[r]!= key:\n",
    "            arr[l],arr[r] = arr[r],arr[l]\n",
    "            l += 1\n",
    "        r += 1\n",
    "    return l\n",
    "\n",
    "# time complexity O(n)\n",
    "# space complexity O(1)\n",
    "\n",
    "i = [3,2,3,6,3,10,9,3]\n",
    "i = [2,11,2,2,1]\n",
    "k = 3\n",
    "k = 2\n",
    "remove_element(i,k)"
   ],
   "cell_type": "code",
   "metadata": {},
   "execution_count": 48,
   "outputs": [
    {
     "output_type": "execute_result",
     "data": {
      "text/plain": [
       "(2, [11, 1])"
      ]
     },
     "metadata": {},
     "execution_count": 48
    }
   ]
  }
 ]
}